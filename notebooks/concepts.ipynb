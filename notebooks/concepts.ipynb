{
 "cells": [
  {
   "cell_type": "markdown",
   "id": "c620eac5",
   "metadata": {},
   "source": [
    "## OOP Revision"
   ]
  },
  {
   "cell_type": "code",
   "execution_count": null,
   "id": "5770fa8f",
   "metadata": {},
   "outputs": [],
   "source": []
  },
  {
   "cell_type": "code",
   "execution_count": null,
   "id": "9bef8ffa",
   "metadata": {},
   "outputs": [],
   "source": []
  },
  {
   "cell_type": "code",
   "execution_count": null,
   "id": "db872ff6",
   "metadata": {},
   "outputs": [],
   "source": []
  },
  {
   "cell_type": "markdown",
   "id": "5dcfd626",
   "metadata": {},
   "source": [
    "## Building Custom Exceptions"
   ]
  },
  {
   "cell_type": "markdown",
   "id": "989d77e2",
   "metadata": {},
   "source": [
    "A `custom exception` is just a **class that inherits** from Python’s built-in `Exception`."
   ]
  },
  {
   "cell_type": "code",
   "execution_count": 1,
   "id": "5ce86948",
   "metadata": {},
   "outputs": [
    {
     "name": "stdout",
     "output_type": "stream",
     "text": [
      "Caught custom error: Somethig went wrong\n"
     ]
    }
   ],
   "source": [
    "class MyCustomException(Exception):\n",
    "    \"\"\"A simple custom exception\"\"\"\n",
    "    \n",
    "    pass \n",
    "\n",
    "try:\n",
    "    raise MyCustomException(\"Somethig went wrong\")\n",
    "except MyCustomException as e:\n",
    "    print(f\"Caught custom error: {e}\")"
   ]
  },
  {
   "cell_type": "code",
   "execution_count": 2,
   "id": "3728668e",
   "metadata": {},
   "outputs": [
    {
     "name": "stdout",
     "output_type": "stream",
     "text": [
      "Error: Invalid data format!, Code: 400\n"
     ]
    }
   ],
   "source": [
    "class MyCustomError(Exception):\n",
    "    def __init__(self, message, code):\n",
    "        super().__init__(message)\n",
    "        self.code = code\n",
    "\n",
    "try:\n",
    "    raise MyCustomError(\"Invalid data format!\", code=400)\n",
    "except MyCustomError as e:\n",
    "    print(f\"Error: {e}, Code: {e.code}\")\n"
   ]
  },
  {
   "cell_type": "markdown",
   "id": "8d4d7350",
   "metadata": {},
   "source": [
    "- `class MyCustomError(Exception):`\n",
    "   - You're inheriting from Python’s built-in Exception class.\n",
    "   - This means MyCustomError behaves like a normal Python error but with extra features.\n",
    "\n",
    "- `__init__(self, message, code):`\n",
    "  - This is the constructor. It initializes the error object with message and code.\n",
    "\n",
    "- `super().__init__(message):`\n",
    "  - Calls the parent Exception class’s constructor.\n",
    "  - This ensures message is stored correctly so Python can display it when the exception is raised.\n",
    "\n",
    "- `self.code = code:`\n",
    "  - Adds an extra attribute code to the exception object.\n",
    "  - This is custom — normal exceptions don’t have this unless you define it."
   ]
  },
  {
   "cell_type": "code",
   "execution_count": 3,
   "id": "1413e71e",
   "metadata": {},
   "outputs": [
    {
     "name": "stdout",
     "output_type": "stream",
     "text": [
      "Error: Age must be between 18 and 60. Received: 15\n"
     ]
    }
   ],
   "source": [
    "class InvalidAgeError(Exception):\n",
    "    def __init__(self, age, message=\"Age must be between 18 and 60\"):\n",
    "        self.age = age\n",
    "        self.message = message\n",
    "        super().__init__(f\"{message}. Received: {age}\")\n",
    "\n",
    "try:\n",
    "    age = 15\n",
    "    if age < 18 or age > 60:\n",
    "        raise InvalidAgeError(age)\n",
    "except InvalidAgeError as e:\n",
    "    print(f\"Error: {e}\")"
   ]
  },
  {
   "cell_type": "code",
   "execution_count": 5,
   "id": "35e8bca6",
   "metadata": {},
   "outputs": [
    {
     "name": "stdout",
     "output_type": "stream",
     "text": [
      "Error: Age must be between 18 and 60 but can't be float. Received: 18.5\n"
     ]
    }
   ],
   "source": [
    "class InvalidAgeError(Exception):\n",
    "    def __init__(self, age, message=\"Age must be between 18 and 60 but can't be float\"):\n",
    "        self.age = age\n",
    "        self.message = message\n",
    "        super().__init__(f\"{message}. Received: {age}\")\n",
    "\n",
    "try:\n",
    "    age = 18.5\n",
    "    if age < 18 or age > 60 or not isinstance(age, int):\n",
    "        raise InvalidAgeError(age)\n",
    "except InvalidAgeError as e:\n",
    "    print(f\"Error: {e}\")"
   ]
  },
  {
   "cell_type": "code",
   "execution_count": 6,
   "id": "e84f21f2",
   "metadata": {},
   "outputs": [
    {
     "name": "stdout",
     "output_type": "stream",
     "text": [
      "Age is properly added and is 45\n"
     ]
    }
   ],
   "source": [
    "class InvalidAgeError(Exception):\n",
    "    def __init__(self, age, message=\"Age must be between 18 and 60 but can't be float\"):\n",
    "        self.age = age\n",
    "        self.message = message\n",
    "        super().__init__(f\"{message}. Received: {age}\")\n",
    "\n",
    "try:\n",
    "    age = 45\n",
    "    if age < 18 or age > 60 or not isinstance(age, int):\n",
    "        raise InvalidAgeError(age)\n",
    "    print(f\"Age is properly added and is {age}\")\n",
    "except InvalidAgeError as e:\n",
    "    print(f\"Error: {e}\")"
   ]
  },
  {
   "cell_type": "markdown",
   "id": "80f70bfb",
   "metadata": {},
   "source": [
    "#### Inheriting from Different Base Classes\n",
    "\n",
    "Depending on the context, you might want to inherit from:\n",
    "- `Exception` → general custom errors \n",
    "- `ValueError` → invalid input\n",
    "- `RuntimeError` → runtime failures\n",
    "- `IOError` → I/O-related errors"
   ]
  },
  {
   "cell_type": "markdown",
   "id": "8adda031",
   "metadata": {},
   "source": [
    "Example\n",
    "\n",
    "```python\n",
    "class InvalidEmailError(ValueError):\n",
    "    pass\n",
    "\n",
    "```"
   ]
  },
  {
   "cell_type": "code",
   "execution_count": null,
   "id": "92149136",
   "metadata": {},
   "outputs": [
    {
     "name": "stdout",
     "output_type": "stream",
     "text": [
      "Caught: Amount cannot be negative!\n"
     ]
    }
   ],
   "source": [
    "class NegativeValueError(ValueError):\n",
    "    \"\"\"Raised when a negative value is provided where it's not allowed.\"\"\"\n",
    "    pass\n",
    "\n",
    "def deposit(amount):\n",
    "    if amount < 0:\n",
    "        raise NegativeValueError(\"Amount cannot be negative!\")\n",
    "    print(f\"Deposited: {amount}\")\n",
    "\n",
    "try:\n",
    "    deposit(-500)\n",
    "except NegativeValueError as e:\n",
    "    print(f\"Caught: {e}\")\n",
    "except ValueError as e:\n",
    "    print(f\"Caught generic ValueError: {e}\")"
   ]
  },
  {
   "cell_type": "code",
   "execution_count": 10,
   "id": "44a315c8",
   "metadata": {},
   "outputs": [
    {
     "name": "stdout",
     "output_type": "stream",
     "text": [
      "int\n"
     ]
    }
   ],
   "source": [
    "age = 45\n",
    "\n",
    "print(type(age).__name__)"
   ]
  },
  {
   "cell_type": "code",
   "execution_count": 13,
   "id": "9e6214d3",
   "metadata": {},
   "outputs": [
    {
     "name": "stdout",
     "output_type": "stream",
     "text": [
      "Caught: Expected <class 'int'>, got str\n"
     ]
    }
   ],
   "source": [
    "class InvalidTypeError(TypeError):\n",
    "    \"\"\"Raised when an argument is not of the expected type.\"\"\"\n",
    "    def __init__(self, expected_type, received_type):\n",
    "        super().__init__(f\"Expected {expected_type}, got {received_type}\")\n",
    "\n",
    "def set_age(age):\n",
    "    if not isinstance(age, int):\n",
    "        raise InvalidTypeError(int, type(age).__name__)\n",
    "    print(f\"Age set to {age}\")\n",
    "\n",
    "try:\n",
    "    set_age(\"twenty\")\n",
    "except InvalidTypeError as e:\n",
    "    print(f\"Caught: {e}\")\n"
   ]
  },
  {
   "cell_type": "code",
   "execution_count": 15,
   "id": "e5c4ee8b",
   "metadata": {},
   "outputs": [
    {
     "name": "stdout",
     "output_type": "stream",
     "text": [
      "Caught: \"The required config key 'password' is missing.\"\n"
     ]
    }
   ],
   "source": [
    "class MissingConfigKeyError(KeyError):\n",
    "    \"\"\"Raised when a required configuration key is missing.\"\"\"\n",
    "    def __init__(self, key):\n",
    "        super().__init__(f\"The required config key '{key}' is missing.\")\n",
    "\n",
    "config = {\"host\": \"localhost\", \"port\": 5432}\n",
    "\n",
    "def get_config(key):\n",
    "    if key not in config:\n",
    "        raise MissingConfigKeyError(key)\n",
    "    return config[key]\n",
    "\n",
    "try:\n",
    "    print(get_config(\"password\"))\n",
    "except MissingConfigKeyError as e:\n",
    "    print(f\"Caught: {e}\")"
   ]
  },
  {
   "cell_type": "code",
   "execution_count": 16,
   "id": "94fc9fc9",
   "metadata": {},
   "outputs": [
    {
     "name": "stdout",
     "output_type": "stream",
     "text": [
      "Caught: File 'data.txt' cannot be accessed.\n"
     ]
    }
   ],
   "source": [
    "# Custom file Handling error\n",
    "class FileNotAccessibleError(IOError):\n",
    "    \"\"\"Raised when a file cannot be accessed.\"\"\"\n",
    "    def __init__(self, filename):\n",
    "        super().__init__(f\"File '{filename}' cannot be accessed.\")\n",
    "\n",
    "import os\n",
    "\n",
    "def read_file(filename):\n",
    "    if not os.path.exists(filename):\n",
    "        raise FileNotAccessibleError(filename)\n",
    "    with open(filename, \"r\") as file:\n",
    "        return file.read()\n",
    "\n",
    "try:\n",
    "    read_file(\"data.txt\")\n",
    "except FileNotAccessibleError as e:\n",
    "    print(f\"Caught: {e}\")"
   ]
  },
  {
   "cell_type": "markdown",
   "id": "0090e5a7",
   "metadata": {},
   "source": [
    "#### Integrating Logging for Better Exceptions"
   ]
  },
  {
   "cell_type": "code",
   "execution_count": 17,
   "id": "3730f59a",
   "metadata": {},
   "outputs": [
    {
     "name": "stderr",
     "output_type": "stream",
     "text": [
      "ERROR:root:Payment Error: Payment declined due to insufficient funds.\n"
     ]
    },
    {
     "name": "stdout",
     "output_type": "stream",
     "text": [
      "Payment declined due to insufficient funds.\n"
     ]
    }
   ],
   "source": [
    "import logging\n",
    "\n",
    "logging.basicConfig(level=logging.ERROR)\n",
    "\n",
    "class PaymentError(Exception):\n",
    "    def __init__(self, message):\n",
    "        super().__init__(message)\n",
    "        logging.error(f\"Payment Error: {message}\")\n",
    "\n",
    "try:\n",
    "    raise PaymentError(\"Payment declined due to insufficient funds.\")\n",
    "except PaymentError as e:\n",
    "    print(e)"
   ]
  },
  {
   "cell_type": "code",
   "execution_count": 18,
   "id": "f407be6b",
   "metadata": {},
   "outputs": [
    {
     "name": "stdout",
     "output_type": "stream",
     "text": [
      "[404] Resource not found at /users/42\n"
     ]
    }
   ],
   "source": [
    "class APIError(Exception):\n",
    "    def __init__(self, status_code, message, endpoint):\n",
    "        self.status_code = status_code\n",
    "        self.endpoint = endpoint\n",
    "        super().__init__(f\"[{status_code}] {message} at {endpoint}\")\n",
    "\n",
    "try:\n",
    "    raise APIError(404, \"Resource not found\", \"/users/42\")\n",
    "except APIError as e:\n",
    "    print(e)"
   ]
  },
  {
   "cell_type": "code",
   "execution_count": 19,
   "id": "f4ab19f1",
   "metadata": {},
   "outputs": [
    {
     "ename": "APIError",
     "evalue": "[400] Invalid input type at /parse",
     "output_type": "error",
     "traceback": [
      "\u001b[1;31m---------------------------------------------------------------------------\u001b[0m",
      "\u001b[1;31mValueError\u001b[0m                                Traceback (most recent call last)",
      "Cell \u001b[1;32mIn[19], line 4\u001b[0m\n\u001b[0;32m      3\u001b[0m \u001b[38;5;28;01mtry\u001b[39;00m:\n\u001b[1;32m----> 4\u001b[0m     \u001b[38;5;28;43mint\u001b[39;49m\u001b[43m(\u001b[49m\u001b[38;5;124;43m\"\u001b[39;49m\u001b[38;5;124;43mabc\u001b[39;49m\u001b[38;5;124;43m\"\u001b[39;49m\u001b[43m)\u001b[49m\n\u001b[0;32m      5\u001b[0m \u001b[38;5;28;01mexcept\u001b[39;00m \u001b[38;5;167;01mValueError\u001b[39;00m \u001b[38;5;28;01mas\u001b[39;00m e:\n",
      "\u001b[1;31mValueError\u001b[0m: invalid literal for int() with base 10: 'abc'",
      "\nThe above exception was the direct cause of the following exception:\n",
      "\u001b[1;31mAPIError\u001b[0m                                  Traceback (most recent call last)",
      "Cell \u001b[1;32mIn[19], line 6\u001b[0m\n\u001b[0;32m      4\u001b[0m     \u001b[38;5;28mint\u001b[39m(\u001b[38;5;124m\"\u001b[39m\u001b[38;5;124mabc\u001b[39m\u001b[38;5;124m\"\u001b[39m)\n\u001b[0;32m      5\u001b[0m \u001b[38;5;28;01mexcept\u001b[39;00m \u001b[38;5;167;01mValueError\u001b[39;00m \u001b[38;5;28;01mas\u001b[39;00m e:\n\u001b[1;32m----> 6\u001b[0m     \u001b[38;5;28;01mraise\u001b[39;00m APIError(\u001b[38;5;241m400\u001b[39m, \u001b[38;5;124m\"\u001b[39m\u001b[38;5;124mInvalid input type\u001b[39m\u001b[38;5;124m\"\u001b[39m, \u001b[38;5;124m\"\u001b[39m\u001b[38;5;124m/parse\u001b[39m\u001b[38;5;124m\"\u001b[39m) \u001b[38;5;28;01mfrom\u001b[39;00m\u001b[38;5;250m \u001b[39m\u001b[38;5;21;01me\u001b[39;00m\n",
      "\u001b[1;31mAPIError\u001b[0m: [400] Invalid input type at /parse"
     ]
    }
   ],
   "source": [
    "## Raissing and chaining exceptions\n",
    "\n",
    "try:\n",
    "    int(\"abc\")\n",
    "except ValueError as e:\n",
    "    raise APIError(400, \"Invalid input type\", \"/parse\") from e"
   ]
  },
  {
   "cell_type": "markdown",
   "id": "0ddd0bd7",
   "metadata": {},
   "source": [
    "#### Integration with Fast API\n",
    "\n",
    "```python\n",
    "from fastapi import FastAPI, HTTPException\n",
    "\n",
    "app = FastAPI()\n",
    "\n",
    "class UserNotFoundError(Exception):\n",
    "    def __init__(self, user_id):\n",
    "        self.user_id = user_id\n",
    "        self.message = f\"User {user_id} not found\"\n",
    "        super().__init__(self.message)\n",
    "\n",
    "@app.exception_handler(UserNotFoundError)\n",
    "async def user_not_found_handler(request, exc: UserNotFoundError):\n",
    "    return JSONResponse(status_code=404, content={\"error\": exc.message})\n",
    "\n",
    "@app.get(\"/users/{user_id}\")\n",
    "async def get_user(user_id: int):\n",
    "    if user_id != 1:\n",
    "        raise UserNotFoundError(user_id)\n",
    "    return {\"id\": 1, \"name\": \"John Doe\"}\n",
    "```"
   ]
  },
  {
   "cell_type": "markdown",
   "id": "fd60f4c3",
   "metadata": {},
   "source": [
    "### Using `sys.exc_info()` for Debugging"
   ]
  },
  {
   "cell_type": "markdown",
   "id": "61be86bf",
   "metadata": {},
   "source": [
    "#### sys advantage\n",
    "\n",
    "- `sys.exc_info()` is a function that **returns information about the most recent exception** that is currently being handled.\n",
    "- It returns a tuple: \n",
    "  ```python\n",
    "  (exception_type, exception_value, traceback_object)\n",
    "  ```"
   ]
  },
  {
   "cell_type": "markdown",
   "id": "6fb89bf9",
   "metadata": {},
   "source": [
    "- `exception_type` → the class of the exception\n",
    "- `exception_value` → the actual exception instance (e.g., ZeroDivisionError('division by zero'))\n",
    "- `traceback_object` → the traceback object that contains details like file name, line number, and function."
   ]
  },
  {
   "cell_type": "code",
   "execution_count": 20,
   "id": "1f6123bb",
   "metadata": {},
   "outputs": [
    {
     "name": "stdout",
     "output_type": "stream",
     "text": [
      "(<class 'ZeroDivisionError'>, ZeroDivisionError('division by zero'), <traceback object at 0x000001A0EC75AE80>)\n"
     ]
    }
   ],
   "source": [
    "import sys\n",
    "\n",
    "try:\n",
    "    1 / 0 # type: ignore\n",
    "except ZeroDivisionError:\n",
    "    print(sys.exc_info())"
   ]
  },
  {
   "cell_type": "code",
   "execution_count": 22,
   "id": "45a78e60",
   "metadata": {},
   "outputs": [
    {
     "name": "stdout",
     "output_type": "stream",
     "text": [
      "ZeroDivisionError\n"
     ]
    }
   ],
   "source": [
    "import sys\n",
    "\n",
    "try:\n",
    "    1 / 0 # type: ignore\n",
    "except ZeroDivisionError:\n",
    "    print(sys.exc_info()[0].__name__) # type: ignore"
   ]
  },
  {
   "cell_type": "markdown",
   "id": "d81b69be",
   "metadata": {},
   "source": [
    "> If no exception is being handled, sys.exc_info() returns:\n",
    "\n",
    "```python\n",
    "(None, None, None)\n",
    "```"
   ]
  },
  {
   "cell_type": "code",
   "execution_count": null,
   "id": "f86adabb",
   "metadata": {},
   "outputs": [
    {
     "name": "stdout",
     "output_type": "stream",
     "text": [
      "Error occurred in python script [C:\\Users\\user\\AppData\\Local\\Temp\\ipykernel_33768\\4189403364.py] at line [4] \n"
     ]
    }
   ],
   "source": [
    "import sys\n",
    "\n",
    "try:\n",
    "    1 / 0 # type: ignore\n",
    "except ZeroDivisionError:\n",
    "    _, _, exc_tb = sys.exc_info()\n",
    "    file_name = exc_tb.tb_frame.f_code.co_filename # type: ignore # From the traceback object, it grabs the filename where the exception occurred.\n",
    "    error_message = (\n",
    "    f\"Error occurred in python script [{file_name}] \"\n",
    "    f\"at line [{exc_tb.tb_lineno}] \" # type: ignore\n",
    "    )\n",
    "    print(error_message)"
   ]
  },
  {
   "cell_type": "code",
   "execution_count": null,
   "id": "dfecfad1",
   "metadata": {},
   "outputs": [
    {
     "name": "stdout",
     "output_type": "stream",
     "text": [
      "Error in script [C:\\Users\\user\\AppData\\Local\\Temp\\ipykernel_33768\\846706352.py] at line [22]: division by zero\n",
      "Traceback:\n",
      "Traceback (most recent call last):\n",
      "  File \"C:\\Users\\user\\AppData\\Local\\Temp\\ipykernel_33768\\846706352.py\", line 22, in <module>\n",
      "    1 / 0\n",
      "ZeroDivisionError: division by zero\n",
      "\n"
     ]
    }
   ],
   "source": [
    "import sys\n",
    "import traceback\n",
    "\n",
    "def error_message_detail(error, error_detail=sys):\n",
    "    exc_type, exc_value, exc_tb = error_detail.exc_info()\n",
    "    \n",
    "    if exc_tb is None:\n",
    "        # No active exception, return a generic message\n",
    "        return f\"No active exception. Message: {str(error)}\"\n",
    "    \n",
    "    file_name = exc_tb.tb_frame.f_code.co_filename\n",
    "    line_no = exc_tb.tb_lineno\n",
    "    stack_trace = ''.join(traceback.format_exception(exc_type, exc_value, exc_tb))\n",
    "    \n",
    "    return (\n",
    "        f\"Error in script [{file_name}] at line [{line_no}]: {error}\\n\"\n",
    "        f\"Traceback:\\n{stack_trace}\"\n",
    "    )\n",
    "\n",
    "try:\n",
    "    1 / 0 # type: ignore\n",
    "except Exception as e:\n",
    "    print(error_message_detail(e))"
   ]
  },
  {
   "cell_type": "markdown",
   "id": "426319f0",
   "metadata": {},
   "source": [
    "#### Hierarchy\n",
    "\n",
    "```markdown\n",
    "BaseException\n",
    " ├── Exception\n",
    " │    ├── ValueError\n",
    " │    ├── TypeError\n",
    " │    ├── KeyError\n",
    " │    └── ...\n",
    " └── SystemExit, KeyboardInterrupt, etc.\n",
    "```"
   ]
  },
  {
   "cell_type": "code",
   "execution_count": null,
   "id": "02299e3f",
   "metadata": {},
   "outputs": [],
   "source": [
    "import logging\n",
    "\n",
    "class AppError(Exception): pass\n",
    "\n",
    "def risky_function():\n",
    "    try:\n",
    "        1 / 0 # type: ignore\n",
    "    except ZeroDivisionError as e:\n",
    "        logging.error(\"Math error\", exc_info=True)\n",
    "        raise AppError(\"Calculation failed\") from e"
   ]
  },
  {
   "cell_type": "code",
   "execution_count": 27,
   "id": "2a36de15",
   "metadata": {},
   "outputs": [
    {
     "name": "stderr",
     "output_type": "stream",
     "text": [
      "ERROR:root:Math error\n",
      "Traceback (most recent call last):\n",
      "  File \"C:\\Users\\user\\AppData\\Local\\Temp\\ipykernel_33768\\481723666.py\", line 7, in risky_function\n",
      "    1 / 0\n",
      "ZeroDivisionError: division by zero\n"
     ]
    },
    {
     "ename": "AppError",
     "evalue": "Calculation failed",
     "output_type": "error",
     "traceback": [
      "\u001b[1;31m---------------------------------------------------------------------------\u001b[0m",
      "\u001b[1;31mZeroDivisionError\u001b[0m                         Traceback (most recent call last)",
      "Cell \u001b[1;32mIn[26], line 7\u001b[0m, in \u001b[0;36mrisky_function\u001b[1;34m()\u001b[0m\n\u001b[0;32m      6\u001b[0m \u001b[38;5;28;01mtry\u001b[39;00m:\n\u001b[1;32m----> 7\u001b[0m     \u001b[38;5;241;43m1\u001b[39;49m\u001b[43m \u001b[49m\u001b[38;5;241;43m/\u001b[39;49m\u001b[43m \u001b[49m\u001b[38;5;241;43m0\u001b[39;49m\n\u001b[0;32m      8\u001b[0m \u001b[38;5;28;01mexcept\u001b[39;00m \u001b[38;5;167;01mZeroDivisionError\u001b[39;00m \u001b[38;5;28;01mas\u001b[39;00m e:\n",
      "\u001b[1;31mZeroDivisionError\u001b[0m: division by zero",
      "\nThe above exception was the direct cause of the following exception:\n",
      "\u001b[1;31mAppError\u001b[0m                                  Traceback (most recent call last)",
      "Cell \u001b[1;32mIn[27], line 1\u001b[0m\n\u001b[1;32m----> 1\u001b[0m \u001b[43mrisky_function\u001b[49m\u001b[43m(\u001b[49m\u001b[43m)\u001b[49m\n",
      "Cell \u001b[1;32mIn[26], line 10\u001b[0m, in \u001b[0;36mrisky_function\u001b[1;34m()\u001b[0m\n\u001b[0;32m      8\u001b[0m \u001b[38;5;28;01mexcept\u001b[39;00m \u001b[38;5;167;01mZeroDivisionError\u001b[39;00m \u001b[38;5;28;01mas\u001b[39;00m e:\n\u001b[0;32m      9\u001b[0m     logging\u001b[38;5;241m.\u001b[39merror(\u001b[38;5;124m\"\u001b[39m\u001b[38;5;124mMath error\u001b[39m\u001b[38;5;124m\"\u001b[39m, exc_info\u001b[38;5;241m=\u001b[39m\u001b[38;5;28;01mTrue\u001b[39;00m)\n\u001b[1;32m---> 10\u001b[0m     \u001b[38;5;28;01mraise\u001b[39;00m AppError(\u001b[38;5;124m\"\u001b[39m\u001b[38;5;124mCalculation failed\u001b[39m\u001b[38;5;124m\"\u001b[39m) \u001b[38;5;28;01mfrom\u001b[39;00m\u001b[38;5;250m \u001b[39m\u001b[38;5;21;01me\u001b[39;00m\n",
      "\u001b[1;31mAppError\u001b[0m: Calculation failed"
     ]
    }
   ],
   "source": [
    "risky_function()"
   ]
  },
  {
   "cell_type": "code",
   "execution_count": null,
   "id": "c593f87f",
   "metadata": {},
   "outputs": [],
   "source": []
  }
 ],
 "metadata": {
  "kernelspec": {
   "display_name": ".venv",
   "language": "python",
   "name": "python3"
  },
  "language_info": {
   "codemirror_mode": {
    "name": "ipython",
    "version": 3
   },
   "file_extension": ".py",
   "mimetype": "text/x-python",
   "name": "python",
   "nbconvert_exporter": "python",
   "pygments_lexer": "ipython3",
   "version": "3.8.20"
  }
 },
 "nbformat": 4,
 "nbformat_minor": 5
}
