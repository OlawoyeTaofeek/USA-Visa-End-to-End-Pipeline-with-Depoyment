{
 "cells": [
  {
   "cell_type": "markdown",
   "id": "1f7ae5fa",
   "metadata": {},
   "source": [
    "# Exploratory Data Analysis on the US Visa Data "
   ]
  },
  {
   "cell_type": "markdown",
   "id": "731bd08b",
   "metadata": {},
   "source": [
    "### US Visa Prediction Project\n",
    "**Life cycle of Machine learning Project**\n",
    "\n",
    "* Understanding the Problem Statement\n",
    "* Data Collection\n",
    "* Exploratory data analysis\n",
    "* Data Cleaning\n",
    "* Data Pre-Processing\n",
    "* Model Training \n",
    "* Choose best model"
   ]
  },
  {
   "cell_type": "markdown",
   "id": "4cafcfd9",
   "metadata": {},
   "source": [
    "## About the Project\n",
    "\n",
    "The **United States visa application process** involves multiple steps and evaluations to determine whether an applicant qualifies for a work visa, such as H1B, H2B, or other types of employment-based visas. Over the years, there has been a **significant rise in applications** due to global job markets, especially in tech, healthcare, and engineering industries.\n",
    "\n",
    "However, the approval rate depends on complex criteria such as:\n",
    "- Applicant demographics\n",
    "- Education and experience\n",
    "- Job roles and employer profile\n",
    "- Prevailing wage levels\n",
    "- Visa categories and subcategories"
   ]
  },
  {
   "cell_type": "markdown",
   "id": "40f2b734",
   "metadata": {},
   "source": [
    "This project leverages **data analysis**, **feature engineering**, and **machine learning** to **predict the likelihood of visa approval** for new applicants.\n",
    "\n",
    "Such predictive insights can:\n",
    "- Help applicants understand their approval chances.\n",
    "- Assist employers and attorneys in reviewing applications before submission.\n",
    "- Support policy researchers analyzing patterns in immigration data."
   ]
  },
  {
   "cell_type": "markdown",
   "id": "7e22450d",
   "metadata": {},
   "source": [
    "### 1) Problem Statement\n",
    "\n",
    "The **Office of Foreign Labor Certification (OFLC)** processes job certification applications for employers seeking to hire foreign workers in the United States. With the significant growth in the number of applications in recent years, the OFLC faces challenges in efficiently screening and evaluating visa applications.\n",
    "\n",
    "This project aims to **develop a Machine Learning classification model** that leverages historical visa application data to predict the likelihood of visa approval.\n",
    "\n",
    "By analyzing patterns and key factors influencing approval decisions, this model will:\n",
    "- Predict whether a visa application will be **approved or denied** based on applicant and job-related data.\n",
    "- Provide **data-driven recommendations** to help streamline the applicant shortlisting process.\n",
    "\n",
    "This solution can support faster decision-making and improve the efficiency of the visa evaluation process."
   ]
  },
  {
   "cell_type": "markdown",
   "id": "90a2e42f",
   "metadata": {},
   "source": [
    "## 2) Data Collection.\n",
    "* The Dataset is part of Office of Foreign Labor Certification (OFLC)\n",
    "* The data consists of 25480 Rows and 12 Columns\n",
    "\n",
    "[**Dataset: USA Visa Dataset (Kaggle)**](https://www.kaggle.com/datasets/moro23/easyvisa-dataset)"
   ]
  }
 ],
 "metadata": {
  "language_info": {
   "name": "python"
  }
 },
 "nbformat": 4,
 "nbformat_minor": 5
}
