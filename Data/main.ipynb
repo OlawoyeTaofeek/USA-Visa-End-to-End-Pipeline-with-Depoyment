{
 "cells": [
  {
   "cell_type": "code",
   "execution_count": 1,
   "id": "64b9fa12",
   "metadata": {},
   "outputs": [],
   "source": [
    "import pandas as pd \n",
    "import numpy as np  "
   ]
  },
  {
   "cell_type": "code",
   "execution_count": 2,
   "id": "f910fb1e",
   "metadata": {},
   "outputs": [
    {
     "name": "stdout",
     "output_type": "stream",
     "text": [
      "  case_id continent education_of_employee has_job_experience  \\\n",
      "0  EZYV01      Asia           High School                  N   \n",
      "1  EZYV02      Asia              Master's                  Y   \n",
      "2  EZYV03      Asia            Bachelor's                  N   \n",
      "3  EZYV04      Asia            Bachelor's                  N   \n",
      "4  EZYV05    Africa              Master's                  Y   \n",
      "\n",
      "  requires_job_training  no_of_employees  yr_of_estab region_of_employment  \\\n",
      "0                     N            14513         2007                 West   \n",
      "1                     N             2412         2002            Northeast   \n",
      "2                     Y            44444         2008                 West   \n",
      "3                     N               98         1897                 West   \n",
      "4                     N             1082         2005                South   \n",
      "\n",
      "   prevailing_wage unit_of_wage full_time_position case_status  \n",
      "0         592.2029         Hour                  Y      Denied  \n",
      "1       83425.6500         Year                  Y   Certified  \n",
      "2      122996.8600         Year                  Y      Denied  \n",
      "3       83434.0300         Year                  Y      Denied  \n",
      "4      149907.3900         Year                  Y   Certified  \n"
     ]
    }
   ],
   "source": [
    "url = \"https://raw.githubusercontent.com/entbappy/MLOPs-Production-Ready-Machine-Learning-Project/refs/heads/main/notebook/Visadataset.csv\"\n",
    "df = pd.read_csv(url)\n",
    "print(df.head())"
   ]
  },
  {
   "cell_type": "code",
   "execution_count": 3,
   "id": "0cee633b",
   "metadata": {},
   "outputs": [],
   "source": [
    "df.to_csv(\"Visadataset.csv\", index=False)"
   ]
  },
  {
   "cell_type": "code",
   "execution_count": null,
   "id": "7ccb3a62",
   "metadata": {},
   "outputs": [],
   "source": []
  }
 ],
 "metadata": {
  "kernelspec": {
   "display_name": ".venv",
   "language": "python",
   "name": "python3"
  },
  "language_info": {
   "codemirror_mode": {
    "name": "ipython",
    "version": 3
   },
   "file_extension": ".py",
   "mimetype": "text/x-python",
   "name": "python",
   "nbconvert_exporter": "python",
   "pygments_lexer": "ipython3",
   "version": "3.8.20"
  }
 },
 "nbformat": 4,
 "nbformat_minor": 5
}
